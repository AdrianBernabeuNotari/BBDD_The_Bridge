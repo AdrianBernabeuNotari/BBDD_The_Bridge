{
 "cells": [
  {
   "cell_type": "code",
   "execution_count": 3,
   "id": "7a0c9afa",
   "metadata": {},
   "outputs": [
    {
     "name": "stdout",
     "output_type": "stream",
     "text": [
      "Librerías importadas correctamente\n"
     ]
    }
   ],
   "source": [
    "import os\n",
    "import sqlite3\n",
    "from datetime import datetime\n",
    "import pandas as pd\n",
    "\n",
    "print(\"Librerías importadas correctamente\")"
   ]
  },
  {
   "cell_type": "code",
   "execution_count": null,
   "id": "0f6f365b",
   "metadata": {},
   "outputs": [],
   "source": [
    "# Establecemos la conexión con la base de datos\n",
    "conexion= sqlite3.connect('bbdd.db')\n",
    "\n",
    "# Creamos un cursor que manipule la bbdd\n",
    "cursor= conexion.cursor()\n",
    "\n",
    "print(\"Conexión establecida exitosamente\")\n",
    "print(f\"Base de datos: tienda_online.db\")"
   ]
  },
  {
   "cell_type": "code",
   "execution_count": null,
   "id": "4276bbec",
   "metadata": {},
   "outputs": [],
   "source": [
    "# Importamos los csv con los datos del ejercicio\n",
    "df_alumnos_1= pd.read_csv('')\n",
    "df_alumnos_2= pd.read_csv('')\n",
    "df_alumnos_3= pd.read_csv('')\n",
    "df_alumnos_4= pd.read_csv('')\n",
    "df_profesores= pd.read_csv('')"
   ]
  }
 ],
 "metadata": {
  "kernelspec": {
   "display_name": "Python 3",
   "language": "python",
   "name": "python3"
  },
  "language_info": {
   "codemirror_mode": {
    "name": "ipython",
    "version": 3
   },
   "file_extension": ".py",
   "mimetype": "text/x-python",
   "name": "python",
   "nbconvert_exporter": "python",
   "pygments_lexer": "ipython3",
   "version": "3.11.9"
  }
 },
 "nbformat": 4,
 "nbformat_minor": 5
}
